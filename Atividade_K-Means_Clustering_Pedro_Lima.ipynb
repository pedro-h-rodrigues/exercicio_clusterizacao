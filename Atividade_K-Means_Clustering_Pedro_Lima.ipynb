{
 "cells": [
  {
   "cell_type": "markdown",
   "id": "imported-formula",
   "metadata": {},
   "source": [
    "### Exercício Clusterização\n",
    "\n",
    "Aluno: **Pedro Henrique Rodrigues de Lima**\n",
    "\n",
    "## Objetivos\n",
    "\n",
    "    Uma operadora de seguro de saúde sabe da forte influência do peso, gênero e nível de colesterol no desenvolvimento de doenças cardíacas. O objetivo dessa atividade é identificar perfis de indivíduos com maior risco para sobrepeso e colesterol alto.\n",
    "    Para alcançar este objetivo, iremos utilizar o modelo agrupamento pelo algoritmo das K-Means. Então nosso objetivo se torna encontrar grupos de indivíduos (clusters) e definir os limites entre o grupo saudável e o grupo de risco.\n",
    "    A base possui os atributos peso, colesterol e gênero. Peso e colesterol são atributos numéricos. Na variável gênero, 1 corresponde ao sexo masculino e 0 ao feminino.\n"
   ]
  },
  {
   "cell_type": "markdown",
   "id": "unusual-capital",
   "metadata": {},
   "source": [
    "## Importação das bibliotecas e leitura dos dados"
   ]
  },
  {
   "cell_type": "code",
   "execution_count": 1,
   "id": "discrete-calcium",
   "metadata": {},
   "outputs": [],
   "source": [
    "import pandas as pd\n",
    "import numpy as np\n",
    "from sklearn.cluster import KMeans\n",
    "from sklearn.metrics import silhouette_score\n",
    "from sklearn.preprocessing import MinMaxScaler\n",
    "import matplotlib.pyplot as plt"
   ]
  },
  {
   "cell_type": "code",
   "execution_count": 2,
   "id": "settled-boston",
   "metadata": {},
   "outputs": [],
   "source": [
    "data = pd.read_excel('Atividade - Clusterizacao - Saude.xlsx', sheet_name=0)\n"
   ]
  },
  {
   "cell_type": "code",
   "execution_count": 3,
   "id": "asian-terminology",
   "metadata": {},
   "outputs": [
    {
     "data": {
      "text/html": [
       "<div>\n",
       "<style scoped>\n",
       "    .dataframe tbody tr th:only-of-type {\n",
       "        vertical-align: middle;\n",
       "    }\n",
       "\n",
       "    .dataframe tbody tr th {\n",
       "        vertical-align: top;\n",
       "    }\n",
       "\n",
       "    .dataframe thead th {\n",
       "        text-align: right;\n",
       "    }\n",
       "</style>\n",
       "<table border=\"1\" class=\"dataframe\">\n",
       "  <thead>\n",
       "    <tr style=\"text-align: right;\">\n",
       "      <th></th>\n",
       "      <th>Peso</th>\n",
       "      <th>Colesterol</th>\n",
       "      <th>Genero</th>\n",
       "    </tr>\n",
       "  </thead>\n",
       "  <tbody>\n",
       "    <tr>\n",
       "      <th>0</th>\n",
       "      <td>102</td>\n",
       "      <td>111</td>\n",
       "      <td>1</td>\n",
       "    </tr>\n",
       "    <tr>\n",
       "      <th>1</th>\n",
       "      <td>115</td>\n",
       "      <td>135</td>\n",
       "      <td>1</td>\n",
       "    </tr>\n",
       "    <tr>\n",
       "      <th>2</th>\n",
       "      <td>115</td>\n",
       "      <td>136</td>\n",
       "      <td>1</td>\n",
       "    </tr>\n",
       "    <tr>\n",
       "      <th>3</th>\n",
       "      <td>140</td>\n",
       "      <td>167</td>\n",
       "      <td>0</td>\n",
       "    </tr>\n",
       "    <tr>\n",
       "      <th>4</th>\n",
       "      <td>130</td>\n",
       "      <td>158</td>\n",
       "      <td>1</td>\n",
       "    </tr>\n",
       "  </tbody>\n",
       "</table>\n",
       "</div>"
      ],
      "text/plain": [
       "   Peso  Colesterol  Genero\n",
       "0   102         111       1\n",
       "1   115         135       1\n",
       "2   115         136       1\n",
       "3   140         167       0\n",
       "4   130         158       1"
      ]
     },
     "execution_count": 3,
     "metadata": {},
     "output_type": "execute_result"
    }
   ],
   "source": [
    "data.head()"
   ]
  },
  {
   "cell_type": "code",
   "execution_count": 4,
   "id": "involved-basement",
   "metadata": {},
   "outputs": [
    {
     "data": {
      "text/plain": [
       "(547, 3)"
      ]
     },
     "execution_count": 4,
     "metadata": {},
     "output_type": "execute_result"
    }
   ],
   "source": [
    "data.shape"
   ]
  },
  {
   "cell_type": "code",
   "execution_count": 5,
   "id": "olympic-cartoon",
   "metadata": {},
   "outputs": [
    {
     "data": {
      "text/html": [
       "<div>\n",
       "<style scoped>\n",
       "    .dataframe tbody tr th:only-of-type {\n",
       "        vertical-align: middle;\n",
       "    }\n",
       "\n",
       "    .dataframe tbody tr th {\n",
       "        vertical-align: top;\n",
       "    }\n",
       "\n",
       "    .dataframe thead th {\n",
       "        text-align: right;\n",
       "    }\n",
       "</style>\n",
       "<table border=\"1\" class=\"dataframe\">\n",
       "  <thead>\n",
       "    <tr style=\"text-align: right;\">\n",
       "      <th></th>\n",
       "      <th>Peso</th>\n",
       "      <th>Colesterol</th>\n",
       "      <th>Genero</th>\n",
       "    </tr>\n",
       "  </thead>\n",
       "  <tbody>\n",
       "    <tr>\n",
       "      <th>count</th>\n",
       "      <td>547.000000</td>\n",
       "      <td>547.000000</td>\n",
       "      <td>547.000000</td>\n",
       "    </tr>\n",
       "    <tr>\n",
       "      <th>mean</th>\n",
       "      <td>143.572212</td>\n",
       "      <td>170.433272</td>\n",
       "      <td>0.513711</td>\n",
       "    </tr>\n",
       "    <tr>\n",
       "      <th>std</th>\n",
       "      <td>30.837275</td>\n",
       "      <td>39.147189</td>\n",
       "      <td>0.500269</td>\n",
       "    </tr>\n",
       "    <tr>\n",
       "      <th>min</th>\n",
       "      <td>95.000000</td>\n",
       "      <td>102.000000</td>\n",
       "      <td>0.000000</td>\n",
       "    </tr>\n",
       "    <tr>\n",
       "      <th>25%</th>\n",
       "      <td>116.000000</td>\n",
       "      <td>136.000000</td>\n",
       "      <td>0.000000</td>\n",
       "    </tr>\n",
       "    <tr>\n",
       "      <th>50%</th>\n",
       "      <td>140.000000</td>\n",
       "      <td>169.000000</td>\n",
       "      <td>1.000000</td>\n",
       "    </tr>\n",
       "    <tr>\n",
       "      <th>75%</th>\n",
       "      <td>171.000000</td>\n",
       "      <td>208.000000</td>\n",
       "      <td>1.000000</td>\n",
       "    </tr>\n",
       "    <tr>\n",
       "      <th>max</th>\n",
       "      <td>203.000000</td>\n",
       "      <td>235.000000</td>\n",
       "      <td>1.000000</td>\n",
       "    </tr>\n",
       "  </tbody>\n",
       "</table>\n",
       "</div>"
      ],
      "text/plain": [
       "             Peso  Colesterol      Genero\n",
       "count  547.000000  547.000000  547.000000\n",
       "mean   143.572212  170.433272    0.513711\n",
       "std     30.837275   39.147189    0.500269\n",
       "min     95.000000  102.000000    0.000000\n",
       "25%    116.000000  136.000000    0.000000\n",
       "50%    140.000000  169.000000    1.000000\n",
       "75%    171.000000  208.000000    1.000000\n",
       "max    203.000000  235.000000    1.000000"
      ]
     },
     "execution_count": 5,
     "metadata": {},
     "output_type": "execute_result"
    }
   ],
   "source": [
    "data.describe()"
   ]
  },
  {
   "cell_type": "code",
   "execution_count": 6,
   "id": "prepared-honey",
   "metadata": {},
   "outputs": [
    {
     "data": {
      "text/plain": [
       "<AxesSubplot:>"
      ]
     },
     "execution_count": 6,
     "metadata": {},
     "output_type": "execute_result"
    },
    {
     "data": {
      "image/png": "[encoded data removed]",
      "text/plain": [
       "<Figure size 432x288 with 1 Axes>"
      ]
     },
     "metadata": {
      "needs_background": "light"
     },
     "output_type": "display_data"
    }
   ],
   "source": [
    "data['Peso'].hist()"
   ]
  },
  {
   "cell_type": "code",
   "execution_count": 7,
   "id": "oriental-championship",
   "metadata": {},
   "outputs": [
    {
     "data": {
      "text/plain": [
       "<AxesSubplot:>"
      ]
     },
     "execution_count": 7,
     "metadata": {},
     "output_type": "execute_result"
    },
    {
     "data": {
      "image/png": "[encoded data removed]",
      "text/plain": [
       "<Figure size 432x288 with 1 Axes>"
      ]
     },
     "metadata": {
      "needs_background": "light"
     },
     "output_type": "display_data"
    }
   ],
   "source": [
    "data['Colesterol'].hist()"
   ]
  },
  {
   "cell_type": "markdown",
   "id": "comparable-jordan",
   "metadata": {},
   "source": [
    "## Testando divisão em 2 clusters"
   ]
  },
  {
   "cell_type": "code",
   "execution_count": 8,
   "id": "visible-joshua",
   "metadata": {},
   "outputs": [],
   "source": [
    "kmeans_model = KMeans(n_clusters=2,random_state = 42)"
   ]
  },
  {
   "cell_type": "code",
   "execution_count": 9,
   "id": "returning-tattoo",
   "metadata": {},
   "outputs": [
    {
     "data": {
      "text/plain": [
       "KMeans(n_clusters=2, random_state=42)"
      ]
     },
     "execution_count": 9,
     "metadata": {},
     "output_type": "execute_result"
    }
   ],
   "source": [
    "kmeans_model.fit(data)"
   ]
  },
  {
   "cell_type": "code",
   "execution_count": 10,
   "id": "hindu-postcard",
   "metadata": {},
   "outputs": [],
   "source": [
    "centroides = kmeans_model.cluster_centers_"
   ]
  },
  {
   "cell_type": "code",
   "execution_count": 11,
   "id": "filled-rhythm",
   "metadata": {},
   "outputs": [
    {
     "data": {
      "text/html": [
       "<div>\n",
       "<style scoped>\n",
       "    .dataframe tbody tr th:only-of-type {\n",
       "        vertical-align: middle;\n",
       "    }\n",
       "\n",
       "    .dataframe tbody tr th {\n",
       "        vertical-align: top;\n",
       "    }\n",
       "\n",
       "    .dataframe thead tr th {\n",
       "        text-align: left;\n",
       "    }\n",
       "</style>\n",
       "<table border=\"1\" class=\"dataframe\">\n",
       "  <thead>\n",
       "    <tr>\n",
       "      <th></th>\n",
       "      <th>Peso</th>\n",
       "      <th>Colesterol</th>\n",
       "      <th>Genero</th>\n",
       "    </tr>\n",
       "  </thead>\n",
       "  <tbody>\n",
       "    <tr>\n",
       "      <th>1</th>\n",
       "      <td>119.073826</td>\n",
       "      <td>139.348993</td>\n",
       "      <td>0.479866</td>\n",
       "    </tr>\n",
       "    <tr>\n",
       "      <th>2</th>\n",
       "      <td>172.891566</td>\n",
       "      <td>207.634538</td>\n",
       "      <td>0.554217</td>\n",
       "    </tr>\n",
       "  </tbody>\n",
       "</table>\n",
       "</div>"
      ],
      "text/plain": [
       "         Peso  Colesterol    Genero\n",
       "1  119.073826  139.348993  0.479866\n",
       "2  172.891566  207.634538  0.554217"
      ]
     },
     "execution_count": 11,
     "metadata": {},
     "output_type": "execute_result"
    }
   ],
   "source": [
    "pd.DataFrame(centroides,index = [1,2], columns = [data.columns])"
   ]
  },
  {
   "cell_type": "markdown",
   "id": "subsequent-manitoba",
   "metadata": {},
   "source": [
    "Utilizando 2 clusters, temos 2 grupos, porém a divisão entre eles não está tão clara. O Gênero por exempplo, está com valores muito parecidos nos 2 grupos.\n",
    "\n",
    "- Grupo 1 - Menor risco:\n",
    "  - Peso médio = 119 (abaixo da média da população)\n",
    "  - Colesterol médio = 139 (abaixo da média da população)\n",
    "  - Gênero predominante: Feminino\n",
    "  \n",
    "  \n",
    "- Grupo 2 - Maior risco:\n",
    "  - Peso médio = 172 (acima da média da população)\n",
    "  - Colesterol médio = 208 (acima da média da população)\n",
    "  - Gênero predominante: Masculino"
   ]
  },
  {
   "cell_type": "markdown",
   "id": "dynamic-eight",
   "metadata": {},
   "source": [
    "**Silhouette score com 2 clusters**"
   ]
  },
  {
   "cell_type": "code",
   "execution_count": 12,
   "id": "turkish-latin",
   "metadata": {},
   "outputs": [
    {
     "data": {
      "text/plain": [
       "0.6313844868675242"
      ]
     },
     "execution_count": 12,
     "metadata": {},
     "output_type": "execute_result"
    }
   ],
   "source": [
    "labels = kmeans_model.labels_\n",
    "silhouette_score(data,labels)"
   ]
  },
  {
   "cell_type": "markdown",
   "id": "respected-picnic",
   "metadata": {},
   "source": [
    "## Testando divisão em 4 clusters"
   ]
  },
  {
   "cell_type": "code",
   "execution_count": 13,
   "id": "determined-marking",
   "metadata": {},
   "outputs": [
    {
     "data": {
      "text/html": [
       "<div>\n",
       "<style scoped>\n",
       "    .dataframe tbody tr th:only-of-type {\n",
       "        vertical-align: middle;\n",
       "    }\n",
       "\n",
       "    .dataframe tbody tr th {\n",
       "        vertical-align: top;\n",
       "    }\n",
       "\n",
       "    .dataframe thead tr th {\n",
       "        text-align: left;\n",
       "    }\n",
       "</style>\n",
       "<table border=\"1\" class=\"dataframe\">\n",
       "  <thead>\n",
       "    <tr>\n",
       "      <th></th>\n",
       "      <th>Peso</th>\n",
       "      <th>Colesterol</th>\n",
       "      <th>Genero</th>\n",
       "    </tr>\n",
       "  </thead>\n",
       "  <tbody>\n",
       "    <tr>\n",
       "      <th>1</th>\n",
       "      <td>107.312925</td>\n",
       "      <td>120.442177</td>\n",
       "      <td>0.551020</td>\n",
       "    </tr>\n",
       "    <tr>\n",
       "      <th>2</th>\n",
       "      <td>185.074830</td>\n",
       "      <td>219.625850</td>\n",
       "      <td>0.578231</td>\n",
       "    </tr>\n",
       "    <tr>\n",
       "      <th>3</th>\n",
       "      <td>129.861111</td>\n",
       "      <td>156.993056</td>\n",
       "      <td>0.416667</td>\n",
       "    </tr>\n",
       "    <tr>\n",
       "      <th>4</th>\n",
       "      <td>154.614679</td>\n",
       "      <td>189.266055</td>\n",
       "      <td>0.504587</td>\n",
       "    </tr>\n",
       "  </tbody>\n",
       "</table>\n",
       "</div>"
      ],
      "text/plain": [
       "         Peso  Colesterol    Genero\n",
       "1  107.312925  120.442177  0.551020\n",
       "2  185.074830  219.625850  0.578231\n",
       "3  129.861111  156.993056  0.416667\n",
       "4  154.614679  189.266055  0.504587"
      ]
     },
     "execution_count": 13,
     "metadata": {},
     "output_type": "execute_result"
    }
   ],
   "source": [
    "kmeans_model = KMeans(n_clusters=4,random_state = 42)\n",
    "kmeans_model.fit(data)\n",
    "centroides = kmeans_model.cluster_centers_\n",
    "pd.DataFrame(centroides,index = [1,2,3,4], columns = [data.columns])"
   ]
  },
  {
   "cell_type": "markdown",
   "id": "short-clone",
   "metadata": {},
   "source": [
    "**Silhouette score com 4 clusters**"
   ]
  },
  {
   "cell_type": "code",
   "execution_count": 14,
   "id": "fitting-columbia",
   "metadata": {},
   "outputs": [
    {
     "data": {
      "text/plain": [
       "0.57136192784364"
      ]
     },
     "execution_count": 14,
     "metadata": {},
     "output_type": "execute_result"
    }
   ],
   "source": [
    "labels = kmeans_model.labels_\n",
    "silhouette_score(data,labels)"
   ]
  },
  {
   "cell_type": "markdown",
   "id": "returning-space",
   "metadata": {},
   "source": [
    "Nota-se que o resultado com 4 clusters foi pior do que com 2 clusters, isso se deve provavelmente ao fato dos dados não estarem normalizados."
   ]
  },
  {
   "cell_type": "markdown",
   "id": "municipal-seeking",
   "metadata": {},
   "source": [
    "## Normalizando os dados"
   ]
  },
  {
   "cell_type": "code",
   "execution_count": 15,
   "id": "closed-invasion",
   "metadata": {},
   "outputs": [],
   "source": [
    "scaler = MinMaxScaler()\n",
    "data_normalized = scaler.fit_transform(data)"
   ]
  },
  {
   "cell_type": "code",
   "execution_count": 16,
   "id": "mediterranean-reset",
   "metadata": {},
   "outputs": [],
   "source": [
    "data_normalized = pd.DataFrame(data_normalized,index = range(0,data.shape[0]),columns = data.columns)"
   ]
  },
  {
   "cell_type": "code",
   "execution_count": 17,
   "id": "seasonal-freight",
   "metadata": {},
   "outputs": [
    {
     "data": {
      "text/html": [
       "<div>\n",
       "<style scoped>\n",
       "    .dataframe tbody tr th:only-of-type {\n",
       "        vertical-align: middle;\n",
       "    }\n",
       "\n",
       "    .dataframe tbody tr th {\n",
       "        vertical-align: top;\n",
       "    }\n",
       "\n",
       "    .dataframe thead th {\n",
       "        text-align: right;\n",
       "    }\n",
       "</style>\n",
       "<table border=\"1\" class=\"dataframe\">\n",
       "  <thead>\n",
       "    <tr style=\"text-align: right;\">\n",
       "      <th></th>\n",
       "      <th>Peso</th>\n",
       "      <th>Colesterol</th>\n",
       "      <th>Genero</th>\n",
       "    </tr>\n",
       "  </thead>\n",
       "  <tbody>\n",
       "    <tr>\n",
       "      <th>count</th>\n",
       "      <td>547.000000</td>\n",
       "      <td>547.000000</td>\n",
       "      <td>547.000000</td>\n",
       "    </tr>\n",
       "    <tr>\n",
       "      <th>mean</th>\n",
       "      <td>0.449743</td>\n",
       "      <td>0.514536</td>\n",
       "      <td>0.513711</td>\n",
       "    </tr>\n",
       "    <tr>\n",
       "      <th>std</th>\n",
       "      <td>0.285530</td>\n",
       "      <td>0.294340</td>\n",
       "      <td>0.500269</td>\n",
       "    </tr>\n",
       "    <tr>\n",
       "      <th>min</th>\n",
       "      <td>0.000000</td>\n",
       "      <td>0.000000</td>\n",
       "      <td>0.000000</td>\n",
       "    </tr>\n",
       "    <tr>\n",
       "      <th>25%</th>\n",
       "      <td>0.194444</td>\n",
       "      <td>0.255639</td>\n",
       "      <td>0.000000</td>\n",
       "    </tr>\n",
       "    <tr>\n",
       "      <th>50%</th>\n",
       "      <td>0.416667</td>\n",
       "      <td>0.503759</td>\n",
       "      <td>1.000000</td>\n",
       "    </tr>\n",
       "    <tr>\n",
       "      <th>75%</th>\n",
       "      <td>0.703704</td>\n",
       "      <td>0.796992</td>\n",
       "      <td>1.000000</td>\n",
       "    </tr>\n",
       "    <tr>\n",
       "      <th>max</th>\n",
       "      <td>1.000000</td>\n",
       "      <td>1.000000</td>\n",
       "      <td>1.000000</td>\n",
       "    </tr>\n",
       "  </tbody>\n",
       "</table>\n",
       "</div>"
      ],
      "text/plain": [
       "             Peso  Colesterol      Genero\n",
       "count  547.000000  547.000000  547.000000\n",
       "mean     0.449743    0.514536    0.513711\n",
       "std      0.285530    0.294340    0.500269\n",
       "min      0.000000    0.000000    0.000000\n",
       "25%      0.194444    0.255639    0.000000\n",
       "50%      0.416667    0.503759    1.000000\n",
       "75%      0.703704    0.796992    1.000000\n",
       "max      1.000000    1.000000    1.000000"
      ]
     },
     "execution_count": 17,
     "metadata": {},
     "output_type": "execute_result"
    }
   ],
   "source": [
    "data_normalized.describe()"
   ]
  },
  {
   "cell_type": "code",
   "execution_count": 18,
   "id": "tested-newton",
   "metadata": {},
   "outputs": [
    {
     "data": {
      "text/plain": [
       "{2: 0.5889441162904384,\n",
       " 3: 0.6184076083065737,\n",
       " 4: 0.6432944835931945,\n",
       " 5: 0.6382051605648327,\n",
       " 6: 0.6130918024555959}"
      ]
     },
     "execution_count": 18,
     "metadata": {},
     "output_type": "execute_result"
    }
   ],
   "source": [
    "n_cluster_dict = {}\n",
    "\n",
    "for n in range(2,7):\n",
    "    kmeans_model = KMeans(n_clusters=n,random_state = 42)\n",
    "    kmeans_model.fit(data_normalized)\n",
    "    labels = kmeans_model.labels_\n",
    "    silhouette = silhouette_score(data_normalized,labels)\n",
    "    n_cluster_dict[n] = silhouette\n",
    "    \n",
    "n_cluster_dict"
   ]
  },
  {
   "cell_type": "markdown",
   "id": "renewable-finding",
   "metadata": {},
   "source": [
    "Conclui-se então que **a melhor forma de divisão do modelo é em 4 clusters**, que é o valor para o qual o **score de silhueta atinge seu maior valor**, antes de começar a decair."
   ]
  },
  {
   "cell_type": "markdown",
   "id": "transparent-consumer",
   "metadata": {},
   "source": [
    "## Determinando os os limites para classificação de risco"
   ]
  },
  {
   "cell_type": "code",
   "execution_count": 19,
   "id": "round-uniform",
   "metadata": {},
   "outputs": [],
   "source": [
    "kmeans_model = KMeans(n_clusters=4,random_state = 42)\n",
    "kmeans_model.fit(data_normalized)\n",
    "centroides = kmeans_model.cluster_centers_\n",
    "centroides = pd.DataFrame(centroides,index = [1,2,3,4], columns = [data.columns])"
   ]
  },
  {
   "cell_type": "code",
   "execution_count": 20,
   "id": "exact-galaxy",
   "metadata": {},
   "outputs": [
    {
     "data": {
      "text/html": [
       "<div>\n",
       "<style scoped>\n",
       "    .dataframe tbody tr th:only-of-type {\n",
       "        vertical-align: middle;\n",
       "    }\n",
       "\n",
       "    .dataframe tbody tr th {\n",
       "        vertical-align: top;\n",
       "    }\n",
       "\n",
       "    .dataframe thead tr th {\n",
       "        text-align: left;\n",
       "    }\n",
       "</style>\n",
       "<table border=\"1\" class=\"dataframe\">\n",
       "  <thead>\n",
       "    <tr>\n",
       "      <th></th>\n",
       "      <th>Peso</th>\n",
       "      <th>Colesterol</th>\n",
       "      <th>Genero</th>\n",
       "    </tr>\n",
       "  </thead>\n",
       "  <tbody>\n",
       "    <tr>\n",
       "      <th>1</th>\n",
       "      <td>0.254600</td>\n",
       "      <td>0.319860</td>\n",
       "      <td>0.000000e+00</td>\n",
       "    </tr>\n",
       "    <tr>\n",
       "      <th>2</th>\n",
       "      <td>0.717394</td>\n",
       "      <td>0.787218</td>\n",
       "      <td>1.000000e+00</td>\n",
       "    </tr>\n",
       "    <tr>\n",
       "      <th>3</th>\n",
       "      <td>0.726215</td>\n",
       "      <td>0.802718</td>\n",
       "      <td>-3.330669e-16</td>\n",
       "    </tr>\n",
       "    <tr>\n",
       "      <th>4</th>\n",
       "      <td>0.187549</td>\n",
       "      <td>0.237775</td>\n",
       "      <td>1.000000e+00</td>\n",
       "    </tr>\n",
       "  </tbody>\n",
       "</table>\n",
       "</div>"
      ],
      "text/plain": [
       "       Peso Colesterol        Genero\n",
       "1  0.254600   0.319860  0.000000e+00\n",
       "2  0.717394   0.787218  1.000000e+00\n",
       "3  0.726215   0.802718 -3.330669e-16\n",
       "4  0.187549   0.237775  1.000000e+00"
      ]
     },
     "execution_count": 20,
     "metadata": {},
     "output_type": "execute_result"
    }
   ],
   "source": [
    "centroides"
   ]
  },
  {
   "cell_type": "code",
   "execution_count": 21,
   "id": "unsigned-wilson",
   "metadata": {},
   "outputs": [],
   "source": [
    "data['cluster'] = kmeans_model.labels_"
   ]
  },
  {
   "cell_type": "code",
   "execution_count": 22,
   "id": "certain-steering",
   "metadata": {},
   "outputs": [
    {
     "data": {
      "text/html": [
       "<div>\n",
       "<style scoped>\n",
       "    .dataframe tbody tr th:only-of-type {\n",
       "        vertical-align: middle;\n",
       "    }\n",
       "\n",
       "    .dataframe tbody tr th {\n",
       "        vertical-align: top;\n",
       "    }\n",
       "\n",
       "    .dataframe thead th {\n",
       "        text-align: right;\n",
       "    }\n",
       "</style>\n",
       "<table border=\"1\" class=\"dataframe\">\n",
       "  <thead>\n",
       "    <tr style=\"text-align: right;\">\n",
       "      <th></th>\n",
       "      <th>Peso</th>\n",
       "      <th>Colesterol</th>\n",
       "      <th>Genero</th>\n",
       "    </tr>\n",
       "    <tr>\n",
       "      <th>cluster</th>\n",
       "      <th></th>\n",
       "      <th></th>\n",
       "      <th></th>\n",
       "    </tr>\n",
       "  </thead>\n",
       "  <tbody>\n",
       "    <tr>\n",
       "      <th>0</th>\n",
       "      <td>122.496815</td>\n",
       "      <td>144.541401</td>\n",
       "      <td>0.0</td>\n",
       "    </tr>\n",
       "    <tr>\n",
       "      <th>1</th>\n",
       "      <td>172.478571</td>\n",
       "      <td>206.700000</td>\n",
       "      <td>1.0</td>\n",
       "    </tr>\n",
       "    <tr>\n",
       "      <th>2</th>\n",
       "      <td>173.431193</td>\n",
       "      <td>208.761468</td>\n",
       "      <td>0.0</td>\n",
       "    </tr>\n",
       "    <tr>\n",
       "      <th>3</th>\n",
       "      <td>115.255319</td>\n",
       "      <td>133.624113</td>\n",
       "      <td>1.0</td>\n",
       "    </tr>\n",
       "  </tbody>\n",
       "</table>\n",
       "</div>"
      ],
      "text/plain": [
       "               Peso  Colesterol  Genero\n",
       "cluster                                \n",
       "0        122.496815  144.541401     0.0\n",
       "1        172.478571  206.700000     1.0\n",
       "2        173.431193  208.761468     0.0\n",
       "3        115.255319  133.624113     1.0"
      ]
     },
     "execution_count": 22,
     "metadata": {},
     "output_type": "execute_result"
    }
   ],
   "source": [
    "data.groupby('cluster').agg('mean')"
   ]
  },
  {
   "cell_type": "code",
   "execution_count": 30,
   "id": "brazilian-lindsay",
   "metadata": {},
   "outputs": [
    {
     "data": {
      "text/plain": [
       "<matplotlib.legend.Legend at 0x23e255ff430>"
      ]
     },
     "execution_count": 30,
     "metadata": {},
     "output_type": "execute_result"
    },
    {
     "data": {
      "image/png": "[encoded data removed]",
      "text/plain": [
       "<Figure size 720x360 with 2 Axes>"
      ]
     },
     "metadata": {
      "needs_background": "light"
     },
     "output_type": "display_data"
    }
   ],
   "source": [
    "fig = plt.figure(figsize = (10,5))\n",
    "ax0 = fig.add_subplot(1,2,1)\n",
    "ax1 = fig.add_subplot(1,2,2)\n",
    "\n",
    "\n",
    "ax1.scatter(data[['Peso']][(data['Genero'] == 1) & (data['cluster'] == 1)],\n",
    "            data[['Colesterol']][(data['Genero'] == 1) & (data['cluster'] == 1)], c = 'red', label = 1)\n",
    "\n",
    "ax1.scatter(data[['Peso']][(data['Genero'] == 1) & (data['cluster'] == 3)],\n",
    "            data[['Colesterol']][(data['Genero'] == 1) & (data['cluster'] == 3)], c = 'blue', label = 3 )\n",
    "\n",
    "ax0.scatter(data[['Peso']][(data['Genero'] == 0) & (data['cluster'] == 0)],\n",
    "            data[['Colesterol']][(data['Genero'] == 0) & (data['cluster'] == 0)], c = 'blue', label = 0 )\n",
    "\n",
    "ax0.scatter(data[['Peso']][(data['Genero'] == 0) & (data['cluster'] == 2)],\n",
    "            data[['Colesterol']][(data['Genero'] == 0) & (data['cluster'] == 2)], c = 'red', label = 2 )\n",
    "\n",
    "ax0.set_title('Mulheres')\n",
    "ax1.set_title('Homens')\n",
    "\n",
    "ax0.set_xlabel('Peso')\n",
    "ax0.set_ylabel('Colesterol')\n",
    "\n",
    "ax1.set_xlabel('Peso')\n",
    "ax1.set_ylabel('Colesterol')\n",
    "\n",
    "ax0.legend()\n",
    "ax1.legend()"
   ]
  },
  {
   "cell_type": "code",
   "execution_count": 37,
   "id": "outdoor-kingdom",
   "metadata": {},
   "outputs": [
    {
     "data": {
      "text/html": [
       "<div>\n",
       "<style scoped>\n",
       "    .dataframe tbody tr th:only-of-type {\n",
       "        vertical-align: middle;\n",
       "    }\n",
       "\n",
       "    .dataframe tbody tr th {\n",
       "        vertical-align: top;\n",
       "    }\n",
       "\n",
       "    .dataframe thead th {\n",
       "        text-align: right;\n",
       "    }\n",
       "</style>\n",
       "<table border=\"1\" class=\"dataframe\">\n",
       "  <thead>\n",
       "    <tr style=\"text-align: right;\">\n",
       "      <th></th>\n",
       "      <th></th>\n",
       "      <th>Peso</th>\n",
       "      <th>Colesterol</th>\n",
       "    </tr>\n",
       "    <tr>\n",
       "      <th>Genero</th>\n",
       "      <th>cluster</th>\n",
       "      <th></th>\n",
       "      <th></th>\n",
       "    </tr>\n",
       "  </thead>\n",
       "  <tbody>\n",
       "    <tr>\n",
       "      <th rowspan=\"2\" valign=\"top\">0</th>\n",
       "      <th>0</th>\n",
       "      <td>145</td>\n",
       "      <td>176</td>\n",
       "    </tr>\n",
       "    <tr>\n",
       "      <th>2</th>\n",
       "      <td>203</td>\n",
       "      <td>235</td>\n",
       "    </tr>\n",
       "    <tr>\n",
       "      <th rowspan=\"2\" valign=\"top\">1</th>\n",
       "      <th>1</th>\n",
       "      <td>203</td>\n",
       "      <td>235</td>\n",
       "    </tr>\n",
       "    <tr>\n",
       "      <th>3</th>\n",
       "      <td>142</td>\n",
       "      <td>173</td>\n",
       "    </tr>\n",
       "  </tbody>\n",
       "</table>\n",
       "</div>"
      ],
      "text/plain": [
       "                Peso  Colesterol\n",
       "Genero cluster                  \n",
       "0      0         145         176\n",
       "       2         203         235\n",
       "1      1         203         235\n",
       "       3         142         173"
      ]
     },
     "execution_count": 37,
     "metadata": {},
     "output_type": "execute_result"
    }
   ],
   "source": [
    "data.groupby(['Genero','cluster']).agg('max')"
   ]
  },
  {
   "cell_type": "markdown",
   "id": "cardiovascular-travel",
   "metadata": {},
   "source": [
    "Limites para as **mulheres** são: \n",
    "  * Peso = 145 e colesterol = 176\n",
    "\n",
    "\n",
    "Limites para os **homens** são: \n",
    "   * Peso = 142 e colesterol = 173"
   ]
  }
 ],
 "metadata": {
  "kernelspec": {
   "display_name": "Python 3",
   "language": "python",
   "name": "python3"
  },
  "language_info": {
   "codemirror_mode": {
    "name": "ipython",
    "version": 3
   },
   "file_extension": ".py",
   "mimetype": "text/x-python",
   "name": "python",
   "nbconvert_exporter": "python",
   "pygments_lexer": "ipython3",
   "version": "3.8.8"
  }
 },
 "nbformat": 4,
 "nbformat_minor": 5
}
